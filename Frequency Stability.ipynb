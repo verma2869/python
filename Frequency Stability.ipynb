{
 "cells": [
  {
   "cell_type": "code",
   "execution_count": 1,
   "metadata": {},
   "outputs": [],
   "source": [
    "import random"
   ]
  },
  {
   "cell_type": "code",
   "execution_count": 15,
   "metadata": {},
   "outputs": [],
   "source": [
    "def tossCoin():\n",
    "    return random.randint(0,1)"
   ]
  },
  {
   "cell_type": "code",
   "execution_count": 36,
   "metadata": {},
   "outputs": [
    {
     "name": "stdout",
     "output_type": "stream",
     "text": [
      "No. of toss: 10\n",
      "Heads -> 1\n",
      "Tails -> 1\n"
     ]
    }
   ],
   "source": [
    "numberOfToss = input(\"No. of toss: \")\n",
    "heads = 0\n",
    "tails = 0\n",
    "for counter in range(int(numberOfToss,2)):\n",
    "    flip = tossCoin()\n",
    "    if(flip == 0):\n",
    "        heads += 1\n",
    "    else:\n",
    "        tails += 1\n",
    "print(\"Heads -> \" + str(heads))\n",
    "print(\"Tails -> \" + str(tails))"
   ]
  },
  {
   "cell_type": "code",
   "execution_count": null,
   "metadata": {},
   "outputs": [],
   "source": []
  }
 ],
 "metadata": {
  "kernelspec": {
   "display_name": "Python 3",
   "language": "python",
   "name": "python3"
  },
  "language_info": {
   "codemirror_mode": {
    "name": "ipython",
    "version": 3
   },
   "file_extension": ".py",
   "mimetype": "text/x-python",
   "name": "python",
   "nbconvert_exporter": "python",
   "pygments_lexer": "ipython3",
   "version": "3.6.5"
  }
 },
 "nbformat": 4,
 "nbformat_minor": 2
}
