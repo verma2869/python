{
 "cells": [
  {
   "cell_type": "markdown",
   "metadata": {},
   "source": [
    "### Caesar Cipher encoding"
   ]
  },
  {
   "cell_type": "code",
   "execution_count": 4,
   "metadata": {},
   "outputs": [],
   "source": [
    "def toCaesar(word, alignment):\n",
    "    encryptedWord = \"\"\n",
    "    for char in word:\n",
    "        asciiCode = ord(char)\n",
    "        newAsciiCode = asciiCode + alignment\n",
    "        encryptedWord = encryptedWord + chr(newAsciiCode)\n",
    "    return encryptedWord"
   ]
  },
  {
   "cell_type": "code",
   "execution_count": 5,
   "metadata": {},
   "outputs": [
    {
     "name": "stdout",
     "output_type": "stream",
     "text": [
      "Khoor\n"
     ]
    }
   ],
   "source": [
    "print(toCaesar('Hello',3))"
   ]
  },
  {
   "cell_type": "markdown",
   "metadata": {},
   "source": [
    "### Caeser Cipher Decoding"
   ]
  },
  {
   "cell_type": "code",
   "execution_count": 8,
   "metadata": {},
   "outputs": [],
   "source": [
    "def decodeCaesar(word, alignment):\n",
    "    decryptedWord = \"\"\n",
    "    for char in word:\n",
    "        asciiCode = ord(char)\n",
    "        newAsciiCode = asciiCode - alignment\n",
    "        decryptedWord = decryptedWord + chr(newAsciiCode)\n",
    "    return decryptedWord"
   ]
  },
  {
   "cell_type": "code",
   "execution_count": 9,
   "metadata": {},
   "outputs": [
    {
     "name": "stdout",
     "output_type": "stream",
     "text": [
      "Hello\n"
     ]
    }
   ],
   "source": [
    "print(decodeCaesar('Khoor',3))"
   ]
  },
  {
   "cell_type": "code",
   "execution_count": null,
   "metadata": {},
   "outputs": [],
   "source": []
  }
 ],
 "metadata": {
  "kernelspec": {
   "display_name": "Python 3",
   "language": "python",
   "name": "python3"
  },
  "language_info": {
   "codemirror_mode": {
    "name": "ipython",
    "version": 3
   },
   "file_extension": ".py",
   "mimetype": "text/x-python",
   "name": "python",
   "nbconvert_exporter": "python",
   "pygments_lexer": "ipython3",
   "version": "3.6.5"
  }
 },
 "nbformat": 4,
 "nbformat_minor": 2
}
