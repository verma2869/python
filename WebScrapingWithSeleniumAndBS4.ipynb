{
 "cells": [
  {
   "cell_type": "markdown",
   "metadata": {},
   "source": [
    "### Get all hyperlinks from anchor tags"
   ]
  },
  {
   "cell_type": "code",
   "execution_count": 84,
   "metadata": {},
   "outputs": [],
   "source": [
    "def getLinks(url):\n",
    "    links = []\n",
    "    for u in url:\n",
    "        driver.get(u)\n",
    "        content = driver.page_source\n",
    "        soup = BeautifulSoup(content)\n",
    "        for a in soup.findAll('a',href=True):\n",
    "            links.append(a.get('href'))\n",
    "    return links"
   ]
  },
  {
   "cell_type": "markdown",
   "metadata": {},
   "source": [
    "### Import libraries"
   ]
  },
  {
   "cell_type": "code",
   "execution_count": 85,
   "metadata": {
    "scrolled": true
   },
   "outputs": [],
   "source": [
    "from selenium import webdriver\n",
    "from bs4 import BeautifulSoup\n",
    "import pandas as pd"
   ]
  },
  {
   "cell_type": "markdown",
   "metadata": {},
   "source": [
    "### Get browser driver instance and prepare urls"
   ]
  },
  {
   "cell_type": "code",
   "execution_count": 86,
   "metadata": {},
   "outputs": [],
   "source": [
    "driver = webdriver.Chrome(\"/usr/bin/chromedriver\")\n",
    "boys = []\n",
    "girls = []\n",
    "boyUrl = []\n",
    "girlUrl = []\n",
    "for i in range(96):\n",
    "    d = \"https://www.prokerala.com/kids/baby-names/girl/page-\"+str(i+1)+\".html\"\n",
    "    girlUrl.append(d)\n",
    "for i in range(132):\n",
    "    d = \"https://www.prokerala.com/kids/baby-names/boy/page-\"+str(i+1)+\".html\"\n",
    "    boyUrl.append(d)"
   ]
  },
  {
   "cell_type": "markdown",
   "metadata": {},
   "source": [
    "### Run urls and get hyperlinks "
   ]
  },
  {
   "cell_type": "code",
   "execution_count": 90,
   "metadata": {},
   "outputs": [],
   "source": [
    "boysLinks = getLinks(boyUrl)\n",
    "girlLinks = getLinks(girlUrl)"
   ]
  },
  {
   "cell_type": "markdown",
   "metadata": {},
   "source": [
    "### Filter boy names"
   ]
  },
  {
   "cell_type": "code",
   "execution_count": 106,
   "metadata": {},
   "outputs": [],
   "source": [
    "for link in boysLinks:\n",
    "    if('/kids/baby-names/' in link):\n",
    "        a = link.split(\"/\")\n",
    "        b = a[len(a) -1]\n",
    "        if(b.endswith(\".html\") & (~(\"boys\" in b) & ~(\"popular\" in b) & ~(\"hindu\" in b) & ~(\"page\" in b) & ~(\"bible\" in b))):\n",
    "            boys.append(b[:b.index(\"-\")])"
   ]
  },
  {
   "cell_type": "markdown",
   "metadata": {},
   "source": [
    "### Filter girl names"
   ]
  },
  {
   "cell_type": "code",
   "execution_count": 100,
   "metadata": {},
   "outputs": [],
   "source": [
    "for link in girlLinks:\n",
    "    if('/kids/baby-names/' in link):\n",
    "        a = link.split(\"/\")\n",
    "        b = a[len(a) -1]\n",
    "        if(b.endswith(\".html\") & (~(\"girl\" in b) & ~(\"popular\" in b) & ~(\"hindu\" in b) & ~(\"page\" in b) & ~(\"bible\" in b))):\n",
    "            girls.append(b[:b.index(\"-\")])"
   ]
  },
  {
   "cell_type": "markdown",
   "metadata": {},
   "source": [
    "### Prepare column names"
   ]
  },
  {
   "cell_type": "code",
   "execution_count": 108,
   "metadata": {},
   "outputs": [],
   "source": [
    "header = pd.array([\"Name\",\"Gender\"])"
   ]
  },
  {
   "cell_type": "markdown",
   "metadata": {},
   "source": [
    "### Prepare Gender column"
   ]
  },
  {
   "cell_type": "code",
   "execution_count": 120,
   "metadata": {},
   "outputs": [],
   "source": [
    "maleGender = []\n",
    "femaleGender = []\n",
    "for i in range(len(boys)):\n",
    "    maleGender.append(\"Male\")\n",
    "for i in range(len(girls)):\n",
    "    femaleGender.append(\"Female\")"
   ]
  },
  {
   "cell_type": "markdown",
   "metadata": {},
   "source": [
    "### Prepare pandas dataframe"
   ]
  },
  {
   "cell_type": "code",
   "execution_count": 131,
   "metadata": {},
   "outputs": [],
   "source": [
    "male = pd.DataFrame(list(zip(boys,maleGender)),columns=header)\n",
    "female = pd.DataFrame(list(zip(girls,femaleGender)),columns=header)"
   ]
  },
  {
   "cell_type": "markdown",
   "metadata": {},
   "source": [
    "### Write dataframes to csv"
   ]
  },
  {
   "cell_type": "code",
   "execution_count": 139,
   "metadata": {},
   "outputs": [],
   "source": [
    "pd.DataFrame.to_csv(male,\"/home/verma/Desktop/maleNames.csv\",sep=\"^\")\n",
    "pd.DataFrame.to_csv(female,\"/home/verma/Desktop/femaleNames.csv\",sep=\"^\")"
   ]
  }
 ],
 "metadata": {
  "kernelspec": {
   "display_name": "Python 3",
   "language": "python",
   "name": "python3"
  },
  "language_info": {
   "codemirror_mode": {
    "name": "ipython",
    "version": 3
   },
   "file_extension": ".py",
   "mimetype": "text/x-python",
   "name": "python",
   "nbconvert_exporter": "python",
   "pygments_lexer": "ipython3",
   "version": "3.7.3"
  }
 },
 "nbformat": 4,
 "nbformat_minor": 2
}
